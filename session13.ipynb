{
  "nbformat": 4,
  "nbformat_minor": 0,
  "metadata": {
    "colab": {
      "name": "session13.ipynb",
      "provenance": []
    },
    "kernelspec": {
      "name": "python3",
      "display_name": "Python 3"
    },
    "language_info": {
      "name": "python"
    }
  },
  "cells": [
    {
      "cell_type": "code",
      "metadata": {
        "id": "Jk3cJ-ZmFYTr"
      },
      "source": [
        "from collections import namedtuple\n",
        "\n",
        "class CarBrands:\n",
        "    def __init__(self):\n",
        "        \"\"\"named tuple for the parking ticket informations\"\"\"\n",
        "        self.park_tk = namedtuple('park_tk','Summons_Number Plate_ID Registration_State Plate_Type Issue_Date Violation_Code Vehicle_Body_Type Vehicle_Make Violation_Description')\n",
        "        self.violations_brand = {}\n",
        "    \n",
        "    def brands(self,f_name):\n",
        "        \"\"\"lazy iterator to iterate parking ticket informations\"\"\"\n",
        "        with open(f_name, encoding='utf8', errors='ignore') as f:\n",
        "            for line in f:\n",
        "                yield line.strip('\\n')\n",
        "\n",
        "    def find_violations(self):\n",
        "        \"\"\"find the violations made by the car brands\"\"\"\n",
        "        info = namedtuple('park_tk', ['tickets'])\n",
        "        files = \"nyc_parking_tickets_extract-1.csv\"\n",
        "        i=0\n",
        "        for brand in self.brands(files):\n",
        "            tickets = brand.split(\",\")\n",
        "            if(i==0):\n",
        "                pass\n",
        "            elif(i==1):\n",
        "                s=self.park_tk(tickets[0],tickets[1],tickets[2],tickets[3],tickets[4],tickets[5],tickets[6],tickets[7],tickets[8])\n",
        "                t = info(s)\n",
        "            else:\n",
        "                s=self.park_tk(tickets[0],tickets[1],tickets[2],tickets[3],tickets[4],tickets[5],tickets[6],tickets[7],tickets[8])\n",
        "                t += info(s)\n",
        "            i+=1\n",
        "\n",
        "        for prof in t:\n",
        "            bg = prof.Vehicle_Make\n",
        "            if bg not in self.violations_brand:\n",
        "                self.violations_brand[bg]=0\n",
        "            else:\n",
        "                self.violations_brand[bg]+=1\n",
        "\n",
        "\n",
        "        for i in self.violations_brand:\n",
        "            print(i,self.violations_brand[i])\n",
        "\n",
        "    def most_violated(self):\n",
        "        \"\"\"most violated car brand\"\"\"\n",
        "        prev_count = 0\n",
        "        for i in self.violations_brand:\n",
        "            count = self.violations_brand[i]\n",
        "            if count>prev_count:\n",
        "                prev_count = count\n",
        "                most_violated_brand = i\n",
        "        print(\"\\nmost violated car brand:\",most_violated_brand)"
      ],
      "execution_count": 15,
      "outputs": []
    },
    {
      "cell_type": "code",
      "metadata": {
        "colab": {
          "base_uri": "https://localhost:8080/"
        },
        "id": "3-xoSrSAFemd",
        "outputId": "2d9eac6b-f55e-462a-eaf3-262e0e53cc6d"
      },
      "source": [
        "c = CarBrands()\n",
        "\n",
        "c.find_violations()\n",
        "\n",
        "c.most_violated()\n"
      ],
      "execution_count": 16,
      "outputs": [
        {
          "output_type": "stream",
          "text": [
            "BMW 33\n",
            "CHEVR 75\n",
            "DODGE 44\n",
            "FORD 103\n",
            "FRUEH 43\n",
            "HONDA 105\n",
            "LINCO 11\n",
            "TOYOT 111\n",
            "CADIL 8\n",
            "CHRYS 11\n",
            "FIR 0\n",
            "GMC 34\n",
            "HYUND 34\n",
            "JAGUA 2\n",
            "JEEP 21\n",
            "LEXUS 25\n",
            "ME/BE 37\n",
            "MERCU 3\n",
            "MITSU 10\n",
            "NISSA 69\n",
            "HIN 5\n",
            "NS/OT 17\n",
            "WORKH 1\n",
            "ACURA 11\n",
            "AUDI 11\n",
            "INTER 24\n",
            "ISUZU 9\n",
            "KENWO 4\n",
            "KIA 7\n",
            "OLDSM 0\n",
            "SUBAR 17\n",
            "VOLVO 11\n",
            "SATUR 1\n",
            "SMART 2\n",
            "INFIN 12\n",
            "PETER 0\n",
            " 4\n",
            "CITRO 0\n",
            "ROVER 4\n",
            "BUICK 4\n",
            "GEO 0\n",
            "MAZDA 4\n",
            "PORSC 2\n",
            "VOLKS 7\n",
            "YAMAH 0\n",
            "BSA 0\n",
            "MINI 0\n",
            "PONTI 0\n",
            "SPRI 0\n",
            "PLYMO 0\n",
            "SCION 1\n",
            "UPS 0\n",
            "FIAT 0\n",
            "UD 0\n",
            "UTILI 0\n",
            "GMCQ 0\n",
            "SAAB 1\n",
            "HINO 1\n",
            "STAR 0\n",
            "AM/T 0\n",
            "MI/F 0\n",
            "\n",
            "most violated car brand: TOYOT\n"
          ],
          "name": "stdout"
        }
      ]
    }
  ]
}